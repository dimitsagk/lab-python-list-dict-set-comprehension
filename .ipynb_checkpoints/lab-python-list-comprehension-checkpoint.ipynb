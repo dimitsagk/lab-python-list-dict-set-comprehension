{
 "cells": [
  {
   "cell_type": "markdown",
   "id": "25d7736c-ba17-4aff-b6bb-66eba20fbf4e",
   "metadata": {},
   "source": [
    "# Lab | List, Dict and Set Comprehension"
   ]
  },
  {
   "cell_type": "markdown",
   "id": "7dd3cbde-675a-4b81-92c3-f728846dbe06",
   "metadata": {},
   "source": [
    "## Exercise: Managing Customer Orders Optimized with Comprehension"
   ]
  },
  {
   "cell_type": "markdown",
   "id": "5d500160-2fb7-4777-b5e4-09d45ebaf328",
   "metadata": {},
   "source": [
    "In the previous exercise, you developed a program to manage customer orders and inventory. Now, let's take it a step further and incorporate comprehension into your code.\n",
    "\n",
    "Follow the steps below to complete the exercise:\n",
    "\n",
    "1. Review your code from the previous exercise and identify areas where you can apply comprehension to simplify and streamline your code. \n",
    "\n",
    "    - *Hint: Apply it to initialize inventory, updating the inventory and printing the updated inventory.*\n",
    "    \n",
    "    - For example, in initializing the inventory, we could have:\n",
    "    \n",
    "        ```python\n",
    "        def initialize_inventory(products):\n",
    "            inventory = {product: int(input(f\"Enter the quantity of {product}s available: \")) for product in products}\n",
    "            return inventory\n",
    "\n",
    "        ```\n",
    "<br>\n",
    "    \n",
    "    \n",
    "2. Modify the function get_customer_orders so it prompts the user to enter the number of customer orders and gathers the product names using a loop and user input. Use comprehension.\n",
    "\n",
    "3. Add a new function to calculate the total price of the customer order. For each product in customer_orders, prompt the user to enter the price of that product. Use comprehension to calculate the total price. Note: assume that the user can only have 1 unit of each product.\n",
    "\n",
    "4. Modify the update_inventory function to remove the product from the inventory if its quantity becomes zero after fulfilling the customer orders. Use comprehension to filter out the products with a quantity of zero from the inventory.\n",
    "\n",
    "5. Print the total price of the customer order.\n",
    "\n",
    "Your code should produce output similar to the following:\n",
    "\n",
    "```python\n",
    "Enter the quantity of t-shirts available:  5\n",
    "Enter the quantity of mugs available:  4\n",
    "Enter the quantity of hats available:  3\n",
    "Enter the quantity of books available:  2\n",
    "Enter the quantity of keychains available:  1\n",
    "Enter the number of customer orders:  2\n",
    "Enter the name of a product that a customer wants to order:  hat\n",
    "Enter the name of a product that a customer wants to order:  keychain\n",
    "\n",
    "Order Statistics:\n",
    "Total Products Ordered: 2\n",
    "Percentage of Unique Products Ordered: 40.0\n",
    "\n",
    "Updated Inventory:\n",
    "t-shirt: 5\n",
    "mug: 4\n",
    "hat: 2\n",
    "book: 2\n",
    "Enter the price of keychain:  5\n",
    "Enter the price of hat:  10\n",
    "Total Price: 15.0\n",
    "\n",
    "```\n"
   ]
  },
  {
   "cell_type": "code",
   "execution_count": null,
   "id": "308f36be",
   "metadata": {},
   "outputs": [],
   "source": [
    "def initialize_inventory(products):\n",
    "    print(\"Let's define the inventory.\")\n",
    "    inventory = {x:check_if_positive_integer(f\"Please enter the available quantity for {x}: \") for x in products}\n",
    "    linebreak()\n",
    "    print(\"The current inventory is:\",inventory)\n",
    "    return inventory\n",
    "\n",
    "def get_customer_orders(products):  # here I added parameters, cause I wanted to ensure that only valid products will be added\n",
    "    add_product_mask = True\n",
    "    order = []\n",
    "    while add_product_mask == True: \n",
    "        user_input = input(f\"Please enter the name of the product the customer wants to order\\nfrom {'/ '.join(products)}: \")\n",
    "        if user_input.strip().lower() in products:\n",
    "            linebreak()\n",
    "            order.append(user_input)\n",
    "            add_product_mask = question_yes_no(\"Do you want to add another product? (yes/no):\")\n",
    "        else:\n",
    "            print(\"Invalid input\")\n",
    "    print(\"Order input is received.\")\n",
    "    return order\n",
    "\n",
    "def order_total_price(customer_orders):\n",
    "    item_prices = [float_number(\"Please enter the price of the product \",x) for x in customer_orders]\n",
    "    return sum(item_prices)\n",
    "\n",
    "def float_number(question,x):\n",
    "    '''Returns input from user that is a float number.\n",
    "    Takes as parameter the question, checks for errors.'''\n",
    "    while True:\n",
    "        try:\n",
    "            return float(input(f\"{question}{x}: \"))\n",
    "        except ValueError:\n",
    "            print(\"Invalid input.\")\n",
    "\n",
    "def update_inventory(customer_orders, inventory):\n",
    "    out_of_stock = []\n",
    "    updated_inventory = {}\n",
    "    for key,value in inventory.items():\n",
    "        if key not in customer_orders:\n",
    "            updated_inventory[key] = value\n",
    "        elif key in customer_orders:\n",
    "            if value>1:\n",
    "                updated_inventory[key] = value-1\n",
    "            else:\n",
    "                out_of_stock.append(key)\n",
    "    # I tried in the following line to do it with comprehension, but wasn't working with all the parameters I wanted and was becoming very complex\n",
    "    # updated_inventory = {key:value -1 if (key in customer_orders and value>1) else (key:value if key not in customer_orders) else out_of_stock.append(key) for key,value in inventory.items()}\n",
    "    if len(out_of_stock) >0:\n",
    "        print(\"The following items are now, after this order, out of stock: \",out_of_stock)\n",
    "    return updated_inventory\n",
    "\n",
    "def calculate_order_statistics(customer_orders, products):\n",
    "    total_unique_products_ordered = len(set(customer_orders))\n",
    "    percentage_of_unique_products_ordered = total_unique_products_ordered * 100/ len(products)\n",
    "    return (total_unique_products_ordered,percentage_of_unique_products_ordered)\n",
    "\n",
    "def print_order_statistics(order_statistics):\n",
    "    print(\"Order Statistics:\\n\"\n",
    "     f\"Total Products Ordered: {order_statistics[0]}\\n\"\n",
    "     f\"Percentage of Unique Products Ordered: {round(order_statistics[1],2)}%\")\n",
    "    \n",
    "def print_updated_inventory(inventory):\n",
    "    print(\"The updated inventory is:\",inventory)  \n",
    "    \n",
    "def linebreak():\n",
    "    '''Prints a linebreak'''\n",
    "    print(\"\\n\")\n",
    "    \n",
    "def question_yes_no(question):\n",
    "    while True:\n",
    "        user_input = input(question)\n",
    "        if user_input.strip().lower() == \"yes\":\n",
    "            return True\n",
    "        elif user_input.strip().lower() == \"no\":\n",
    "            return False\n",
    "        else:\n",
    "            print(\"Invalid input, please enter only yes/no.\\n\")\n",
    "\n",
    "def check_if_positive_integer(question):\n",
    "    '''Returns input from user that is a positive integer.\n",
    "    Takes as parameter the question, checks for errors.'''\n",
    "    while True:\n",
    "        try:\n",
    "            user_input = int(input(question))\n",
    "            if user_input >= 0:\n",
    "                return user_input\n",
    "            else:\n",
    "                print(\"Please add a positive number.\")\n",
    "        except ValueError:\n",
    "            print(\"Invalid input.\")"
   ]
  },
  {
   "cell_type": "code",
   "execution_count": null,
   "id": "b8e9b80f",
   "metadata": {},
   "outputs": [],
   "source": [
    "products = [\"t-shirt\",\"mug\",\"hat\",\"book\",\"keychain\"]\n",
    "\n",
    "inventory=initialize_inventory(products)"
   ]
  },
  {
   "cell_type": "code",
   "execution_count": null,
   "id": "1ef27f19",
   "metadata": {},
   "outputs": [],
   "source": [
    "customer_orders = get_customer_orders(products)"
   ]
  },
  {
   "cell_type": "code",
   "execution_count": null,
   "id": "83a743e7",
   "metadata": {},
   "outputs": [],
   "source": [
    "order_statistics = (calculate_order_statistics(customer_orders, products))"
   ]
  },
  {
   "cell_type": "code",
   "execution_count": null,
   "id": "aa396926",
   "metadata": {},
   "outputs": [],
   "source": [
    "print_order_statistics(order_statistics)"
   ]
  },
  {
   "cell_type": "code",
   "execution_count": null,
   "id": "8fe6a144",
   "metadata": {},
   "outputs": [],
   "source": [
    "inventory = update_inventory(customer_orders, inventory)"
   ]
  },
  {
   "cell_type": "code",
   "execution_count": null,
   "id": "b99cba90",
   "metadata": {},
   "outputs": [],
   "source": [
    "print_updated_inventory(inventory)"
   ]
  },
  {
   "cell_type": "code",
   "execution_count": null,
   "id": "ac6d68cb",
   "metadata": {},
   "outputs": [],
   "source": [
    "print(f\"Total price of customer order is: {order_total_price(customer_orders)}\")"
   ]
  },
  {
   "cell_type": "code",
   "execution_count": null,
   "id": "d6dac18c",
   "metadata": {},
   "outputs": [],
   "source": []
  }
 ],
 "metadata": {
  "kernelspec": {
   "display_name": "Python 3 (ipykernel)",
   "language": "python",
   "name": "python3"
  },
  "language_info": {
   "codemirror_mode": {
    "name": "ipython",
    "version": 3
   },
   "file_extension": ".py",
   "mimetype": "text/x-python",
   "name": "python",
   "nbconvert_exporter": "python",
   "pygments_lexer": "ipython3",
   "version": "3.11.5"
  }
 },
 "nbformat": 4,
 "nbformat_minor": 5
}
